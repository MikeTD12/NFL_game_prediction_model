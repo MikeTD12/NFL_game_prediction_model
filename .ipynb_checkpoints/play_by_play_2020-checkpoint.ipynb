{
 "cells": [
  {
   "cell_type": "code",
   "execution_count": null,
   "metadata": {
    "ExecuteTime": {
     "start_time": "2021-01-22T21:26:22.894Z"
    }
   },
   "outputs": [],
   "source": [
    "import pandas as pd\n",
    "import numpy as np\n",
    "import re\n",
    "import seaborn as sns\n",
    "import matplotlib.pyplot as plt\n",
    "%matplotlib inline\n",
    "\n",
    "import warnings\n",
    "warnings.filterwarnings('ignore')"
   ]
  },
  {
   "cell_type": "code",
   "execution_count": null,
   "metadata": {
    "ExecuteTime": {
     "start_time": "2021-01-22T21:26:23.113Z"
    }
   },
   "outputs": [],
   "source": [
    "pd.set_option('display.max_columns', None)\n",
    "sns.set(rc={'figure.figsize':(10,10)})"
   ]
  },
  {
   "cell_type": "code",
   "execution_count": null,
   "metadata": {
    "ExecuteTime": {
     "start_time": "2021-01-22T21:26:23.259Z"
    }
   },
   "outputs": [],
   "source": [
    "c = pd.read_csv('https://raw.githubusercontent.com/guga31bb/nflfastR-data/master/teams_colors_logos.csv',\n",
    "               sep=',')"
   ]
  },
  {
   "cell_type": "code",
   "execution_count": null,
   "metadata": {
    "ExecuteTime": {
     "start_time": "2021-01-22T21:26:23.437Z"
    }
   },
   "outputs": [],
   "source": [
    "cc = c[['team_abbr', 'team_color']]"
   ]
  },
  {
   "cell_type": "code",
   "execution_count": null,
   "metadata": {
    "ExecuteTime": {
     "start_time": "2021-01-22T21:26:23.580Z"
    }
   },
   "outputs": [],
   "source": [
    "df = pd.read_csv('https://raw.githubusercontent.com/guga31bb/nflfastR-data/master/data/play_by_play_2020.csv.gz')"
   ]
  },
  {
   "cell_type": "code",
   "execution_count": null,
   "metadata": {
    "ExecuteTime": {
     "start_time": "2021-01-22T21:26:23.751Z"
    }
   },
   "outputs": [],
   "source": [
    "epa_rain =\\\n",
    "df[(df.weather.str.contains('Rain|showers')) &\n",
    "  (df.play_type == 'pass')].groupby('posteam').epa.mean()\\\n",
    ".sort_values(ascending=False).reset_index()"
   ]
  },
  {
   "cell_type": "code",
   "execution_count": null,
   "metadata": {
    "ExecuteTime": {
     "start_time": "2021-01-22T21:26:23.900Z"
    }
   },
   "outputs": [],
   "source": [
    "epa_rain = pd.merge(epa_rain, cc, left_on='posteam', right_on='team_abbr')"
   ]
  },
  {
   "cell_type": "code",
   "execution_count": null,
   "metadata": {
    "ExecuteTime": {
     "start_time": "2021-01-22T21:26:24.059Z"
    }
   },
   "outputs": [],
   "source": [
    "fig = sns.barplot(x='posteam', y='epa', data=epa_rain, \n",
    "            palette=epa_rain.team_color)\\\n",
    ".set_title('Average EPA/passing play when in rainy conditions; Weeks 1-17')\n",
    "plt.xlabel(None)\n",
    "plt.ylabel(\"EPA per passing play\")\n",
    "plt.show(fig);"
   ]
  },
  {
   "cell_type": "code",
   "execution_count": null,
   "metadata": {
    "ExecuteTime": {
     "start_time": "2021-01-22T21:26:24.221Z"
    }
   },
   "outputs": [],
   "source": [
    "epa_rain_play_count =\\\n",
    "df[(df.weather.str.contains('Rain|showers')) &\n",
    "  (df.play_type == 'pass')].groupby('posteam').play_id.count()\\\n",
    ".sort_values(ascending=False).reset_index()"
   ]
  },
  {
   "cell_type": "code",
   "execution_count": null,
   "metadata": {
    "ExecuteTime": {
     "start_time": "2021-01-22T21:26:24.392Z"
    }
   },
   "outputs": [],
   "source": [
    "epa_rain_play_count = pd.merge(epa_rain_play_count, cc, left_on='posteam', right_on='team_abbr')"
   ]
  },
  {
   "cell_type": "code",
   "execution_count": null,
   "metadata": {
    "ExecuteTime": {
     "start_time": "2021-01-22T21:26:24.554Z"
    }
   },
   "outputs": [],
   "source": [
    "fig = sns.barplot(x='posteam', y='play_id', data=epa_rain_play_count, \n",
    "            palette=epa_rain_play_count.team_color)\\\n",
    ".set_title('Count of passing plays when in rainy conditions; Weeks 1-17')\n",
    "plt.xlabel(None)\n",
    "plt.ylabel(\"Count of passing plays\")\n",
    "plt.show(fig);"
   ]
  },
  {
   "cell_type": "code",
   "execution_count": null,
   "metadata": {
    "ExecuteTime": {
     "start_time": "2021-01-22T21:26:24.727Z"
    }
   },
   "outputs": [],
   "source": [
    "t = df[(df.play_type == 'pass') \n",
    "       & (df.ydstogo.between(10, 20))\n",
    "       & (df.down.isin([3.0, 4.0]))\n",
    "       & (df.wp >= .1)].groupby('posteam').agg({\n",
    "    'epa': ['mean', 'count']\n",
    "})\\\n",
    ".sort_values(by=('epa', 'mean'), ascending=False)\\\n",
    ".reset_index()"
   ]
  },
  {
   "cell_type": "code",
   "execution_count": null,
   "metadata": {
    "ExecuteTime": {
     "start_time": "2021-01-22T21:26:24.881Z"
    }
   },
   "outputs": [],
   "source": [
    "late = t.sort_values(by=(('epa', 'mean')), ascending=False).head(10)"
   ]
  },
  {
   "cell_type": "code",
   "execution_count": null,
   "metadata": {
    "ExecuteTime": {
     "start_time": "2021-01-22T21:26:25.049Z"
    }
   },
   "outputs": [],
   "source": [
    "late = pd.merge(late, c, left_on='posteam', right_on='team_abbr')"
   ]
  },
  {
   "cell_type": "code",
   "execution_count": null,
   "metadata": {
    "ExecuteTime": {
     "start_time": "2021-01-22T21:26:25.220Z"
    }
   },
   "outputs": [],
   "source": [
    "fig = sns.barplot(x=('posteam', ''), y=('epa', 'mean'), data=late, \n",
    "            palette=late.team_color)\\\n",
    ".set_title('EPA/passing play on late downs, 10-20 yds from sticks; Weeks 1-17')\n",
    "plt.xlabel(None)\n",
    "plt.ylabel(\"EPA/passing play\")\n",
    "plt.show(fig);"
   ]
  },
  {
   "cell_type": "code",
   "execution_count": null,
   "metadata": {
    "ExecuteTime": {
     "start_time": "2021-01-22T21:26:25.536Z"
    }
   },
   "outputs": [],
   "source": [
    "df['mph'] = df.weather.str.extract('([0-9]+ mph)')"
   ]
  },
  {
   "cell_type": "code",
   "execution_count": null,
   "metadata": {
    "ExecuteTime": {
     "start_time": "2021-01-22T21:26:25.812Z"
    }
   },
   "outputs": [],
   "source": [
    "df['mph'] = df.mph.str.split(expand=True)[0]"
   ]
  },
  {
   "cell_type": "code",
   "execution_count": null,
   "metadata": {
    "ExecuteTime": {
     "start_time": "2021-01-22T21:26:26.016Z"
    }
   },
   "outputs": [],
   "source": [
    "df['mph'] = df.mph.astype('float')"
   ]
  },
  {
   "cell_type": "code",
   "execution_count": null,
   "metadata": {
    "ExecuteTime": {
     "start_time": "2021-01-22T21:26:26.210Z"
    }
   },
   "outputs": [],
   "source": [
    "mph = df[(df.mph >= 20)\n",
    "        & (df.play_type == 'pass')].groupby('posteam').agg({\n",
    "    'epa': ['mean', 'count']\n",
    "})\\\n",
    ".sort_values(by=('epa', 'mean'), ascending=False)\\\n",
    ".reset_index()"
   ]
  },
  {
   "cell_type": "code",
   "execution_count": null,
   "metadata": {
    "ExecuteTime": {
     "start_time": "2021-01-22T21:26:26.384Z"
    }
   },
   "outputs": [],
   "source": [
    "mph = pd.merge(mph, cc, left_on='posteam', right_on='team_abbr')"
   ]
  },
  {
   "cell_type": "code",
   "execution_count": null,
   "metadata": {
    "ExecuteTime": {
     "start_time": "2021-01-22T21:26:26.542Z"
    }
   },
   "outputs": [],
   "source": [
    "fig = sns.barplot(x=('posteam', ''), y=('epa', 'mean'), data=mph, \n",
    "            palette=mph.team_color)\\\n",
    ".set_title('EPA/passing play when wind >= 20 mph; Weeks 1-17')\n",
    "plt.xlabel(None)\n",
    "plt.ylabel(\"EPA/passing play\")\n",
    "plt.show(fig);"
   ]
  },
  {
   "cell_type": "code",
   "execution_count": null,
   "metadata": {
    "ExecuteTime": {
     "start_time": "2021-01-22T21:26:26.708Z"
    }
   },
   "outputs": [],
   "source": [
    "df['temp'] = df.weather.str.extract('(Temp: [0-9]+)')"
   ]
  },
  {
   "cell_type": "code",
   "execution_count": null,
   "metadata": {
    "ExecuteTime": {
     "start_time": "2021-01-22T21:26:26.888Z"
    }
   },
   "outputs": [],
   "source": [
    "df['temp'] = df.temp.str.split(' ', expand=True)[1].astype('float')"
   ]
  },
  {
   "cell_type": "code",
   "execution_count": null,
   "metadata": {
    "ExecuteTime": {
     "start_time": "2021-01-22T21:26:27.076Z"
    }
   },
   "outputs": [],
   "source": [
    "df['humidity'] = df.weather.str.extract('(Humidity: [0-9]+)')\n",
    "df['humidity'] = df.humidity.str.split(' ', expand=True)[1].astype('float')"
   ]
  },
  {
   "cell_type": "code",
   "execution_count": null,
   "metadata": {
    "ExecuteTime": {
     "start_time": "2021-01-22T21:26:27.248Z"
    }
   },
   "outputs": [],
   "source": [
    "s = df[df.play_type == 'pass']\\\n",
    ".groupby('posteam').success.mean().sort_values(ascending=False).reset_index().head(10)"
   ]
  },
  {
   "cell_type": "code",
   "execution_count": null,
   "metadata": {
    "ExecuteTime": {
     "start_time": "2021-01-22T21:26:27.424Z"
    }
   },
   "outputs": [],
   "source": [
    "s = pd.merge(s, cc, left_on='posteam', right_on='team_abbr')"
   ]
  },
  {
   "cell_type": "code",
   "execution_count": null,
   "metadata": {
    "ExecuteTime": {
     "start_time": "2021-01-22T21:26:27.608Z"
    }
   },
   "outputs": [],
   "source": [
    "#plt.figure(figsize=(6,4))\n",
    "fig = sns.barplot(x='posteam', y='success', data=s, \n",
    "            palette=s.team_color)\\\n",
    ".set_title('% of offensive plays > 0 EPA ; Weeks 1-17')\n",
    "plt.xlabel(None)\n",
    "plt.ylabel(\"% of offensive plays > 0 EPA\")\n",
    "plt.show(fig);"
   ]
  },
  {
   "cell_type": "code",
   "execution_count": null,
   "metadata": {
    "ExecuteTime": {
     "start_time": "2021-01-22T21:26:27.823Z"
    }
   },
   "outputs": [],
   "source": [
    "df[\n",
    "(df.posteam == 'BUF')\n",
    "& (df.week == 5)].groupby('game_seconds_remaining').wp.mean().reset_index()\\\n",
    ".sort_values(by='game_seconds_remaining').plot(x='game_seconds_remaining', y='wp', figsize=(12, 6));"
   ]
  },
  {
   "cell_type": "code",
   "execution_count": null,
   "metadata": {
    "ExecuteTime": {
     "start_time": "2021-01-22T21:26:28.103Z"
    }
   },
   "outputs": [],
   "source": [
    "third = df[\n",
    "(df.down == 3)\n",
    "& (df.ydstogo >=10)\n",
    "& (df.wp <= 0.90)\n",
    "& (df.play_type == 'pass')].groupby('posteam').agg({\n",
    "    'third_down_converted': ['mean', 'count']\n",
    "}).sort_values(by=('third_down_converted', 'mean'), ascending=False).round(3).reset_index().head(10)"
   ]
  },
  {
   "cell_type": "code",
   "execution_count": null,
   "metadata": {
    "ExecuteTime": {
     "start_time": "2021-01-22T21:26:28.348Z"
    }
   },
   "outputs": [],
   "source": [
    "third = pd.merge(third, cc, left_on='posteam', right_on='team_abbr')"
   ]
  },
  {
   "cell_type": "code",
   "execution_count": null,
   "metadata": {
    "ExecuteTime": {
     "start_time": "2021-01-22T21:26:28.548Z"
    }
   },
   "outputs": [],
   "source": [
    "fig = sns.barplot(x='team_abbr', y=('third_down_converted', 'mean'), data=third, \n",
    "            palette=third.team_color)\\\n",
    ".set_title('3rd down & long (>= 10 yds) conversion rate; Weeks 1-17')\n",
    "plt.xlabel(None)\n",
    "plt.ylabel(\"Conversion Rate\")\n",
    "plt.show(fig);"
   ]
  },
  {
   "cell_type": "code",
   "execution_count": null,
   "metadata": {
    "ExecuteTime": {
     "start_time": "2021-01-22T21:26:28.764Z"
    }
   },
   "outputs": [],
   "source": [
    "df[\n",
    "    (df.posteam == 'BUF')\n",
    "].groupby(df.qtr).wp.mean().reset_index().plot(x='qtr', y='wp')"
   ]
  },
  {
   "cell_type": "code",
   "execution_count": null,
   "metadata": {
    "ExecuteTime": {
     "start_time": "2021-01-22T21:26:28.987Z"
    }
   },
   "outputs": [],
   "source": [
    "epass = df[\n",
    "(df.down.isin([1, 2]))\n",
    "& (df.wp.between(0.10, 0.90))\n",
    "& (df.half_seconds_remaining > 120)\n",
    "& (df.play_type == 'pass')].groupby('posteam').agg({\n",
    "    'epa': ['mean', 'count']\n",
    "}).sort_values(by=('epa', 'mean'), ascending=False).round(3).reset_index().head(10)"
   ]
  },
  {
   "cell_type": "code",
   "execution_count": null,
   "metadata": {
    "ExecuteTime": {
     "start_time": "2021-01-22T21:26:29.198Z"
    }
   },
   "outputs": [],
   "source": [
    "epass = pd.merge(epass, cc, left_on='posteam', right_on='team_abbr')"
   ]
  },
  {
   "cell_type": "code",
   "execution_count": null,
   "metadata": {
    "ExecuteTime": {
     "start_time": "2021-01-22T21:26:29.428Z"
    }
   },
   "outputs": [],
   "source": [
    "sns.barplot(x=('epa', 'mean'), y=('posteam',''), data=epass, palette=epass.team_color);"
   ]
  },
  {
   "cell_type": "code",
   "execution_count": null,
   "metadata": {
    "ExecuteTime": {
     "start_time": "2021-01-22T21:26:29.650Z"
    }
   },
   "outputs": [],
   "source": [
    "# defenses that defend early down passes (1&2 down), WP between 20 & 80 %, omit last 2 mins of halves\n",
    "edp = df[\n",
    "    (df.down.isin([1, 2]))\n",
    "    &(df.play_type.isin(['pass', 'run']))\n",
    "    & (df.half_seconds_remaining > 120)\n",
    "    & (df.def_wp.between(0.2, 0.8))\n",
    "    & (df.week.between(1, 17))\n",
    "]\\\n",
    ".groupby('defteam').play_type.value_counts().unstack()"
   ]
  },
  {
   "cell_type": "code",
   "execution_count": null,
   "metadata": {
    "ExecuteTime": {
     "start_time": "2021-01-22T21:26:29.898Z"
    }
   },
   "outputs": [],
   "source": [
    "edp['early_d_pass'] = (edp['pass'] / (edp['pass'] + edp['run'])).round(3)"
   ]
  },
  {
   "cell_type": "code",
   "execution_count": null,
   "metadata": {
    "ExecuteTime": {
     "start_time": "2021-01-22T21:26:30.150Z"
    }
   },
   "outputs": [],
   "source": [
    "edp = edp.sort_values(by='early_d_pass').reset_index()"
   ]
  },
  {
   "cell_type": "code",
   "execution_count": null,
   "metadata": {
    "ExecuteTime": {
     "start_time": "2021-01-22T21:26:30.443Z"
    }
   },
   "outputs": [],
   "source": [
    "edp = pd.merge(edp, cc, left_on='defteam', right_on='team_abbr')"
   ]
  },
  {
   "cell_type": "code",
   "execution_count": null,
   "metadata": {
    "ExecuteTime": {
     "start_time": "2021-01-22T21:26:30.691Z"
    }
   },
   "outputs": [],
   "source": [
    "ax = sns.barplot(x='early_d_pass', y='defteam', data=edp.head(15), palette=edp.team_color)\n",
    "ax.set_title('Early down pass % in neutral situations; Weeks 1-17', color='red')\n",
    "ax.tick_params(axis='x', colors='red')\n",
    "ax.tick_params(axis='y', colors='red')\n",
    "ax.xaxis.label.set_color('red')\n",
    "ax.yaxis.label.set_color('red')\n",
    "ax.patch.set_facecolor('#E8E8E8')\n",
    "plt.ylabel(\"Defense\")\n",
    "plt.xlabel(\"Early Down Pass %\");"
   ]
  },
  {
   "cell_type": "code",
   "execution_count": null,
   "metadata": {
    "ExecuteTime": {
     "start_time": "2021-01-22T21:26:30.932Z"
    }
   },
   "outputs": [],
   "source": [
    "# offensive early down passes (1&2 down), WP between 20 & 80 %, omit last 2 mins of halves\n",
    "off = df[\n",
    "    (df.down.isin([1, 2]))\n",
    "    &(df.play_type.isin(['pass', 'run']))\n",
    "    & (df.half_seconds_remaining > 120)\n",
    "    & (df.wp.between(0.2, 0.8))\n",
    "    & (df.week.between(1, 17))\n",
    "]\\\n",
    ".groupby('posteam').play_type.value_counts().unstack()\n",
    "\n",
    "off['early_d_pass'] = (off['pass'] / (off['pass'] + off['run'])).round(3)"
   ]
  },
  {
   "cell_type": "code",
   "execution_count": null,
   "metadata": {
    "ExecuteTime": {
     "start_time": "2021-01-22T21:26:31.542Z"
    }
   },
   "outputs": [],
   "source": [
    "off = off.sort_values(by='early_d_pass', ascending=False).reset_index()"
   ]
  },
  {
   "cell_type": "code",
   "execution_count": null,
   "metadata": {
    "ExecuteTime": {
     "start_time": "2021-01-22T21:26:31.930Z"
    }
   },
   "outputs": [],
   "source": [
    "off = pd.merge(off, cc, left_on='posteam', right_on='team_abbr')"
   ]
  },
  {
   "cell_type": "code",
   "execution_count": null,
   "metadata": {
    "ExecuteTime": {
     "start_time": "2021-01-22T21:26:32.550Z"
    }
   },
   "outputs": [],
   "source": [
    "ax = sns.barplot(x='early_d_pass', y='posteam', data=off.head(15), palette=off.team_color)\n",
    "ax.set_title('Early down pass % in neutral situations; Weeks 1-17')\n",
    "ax.patch.set_facecolor('#E8E8E8')\n",
    "plt.ylabel(\"Offense\")\n",
    "plt.xlabel(\"Early Down Pass %\");"
   ]
  },
  {
   "cell_type": "code",
   "execution_count": null,
   "metadata": {
    "ExecuteTime": {
     "start_time": "2021-01-22T21:26:32.763Z"
    }
   },
   "outputs": [],
   "source": [
    "# do a study on epa/play for early down pass % compared to early down run %. Netural situations."
   ]
  },
  {
   "cell_type": "code",
   "execution_count": null,
   "metadata": {
    "ExecuteTime": {
     "start_time": "2021-01-22T21:26:33.091Z"
    }
   },
   "outputs": [],
   "source": [
    "ede = df[\n",
    "    (df.down.isin([1, 2]))\n",
    "    &(df.play_type.isin(['pass', 'run']))\n",
    "    & (df.half_seconds_remaining > 120)\n",
    "    & (df.wp.between(0.2, 0.8))\n",
    "    & (df.week.between(1, 17))\n",
    "]\\\n",
    ".groupby(['posteam', 'play_type']).agg({\n",
    "    'epa': ['mean', 'count']\n",
    "}).reset_index().pivot_table(index='posteam', columns='play_type')"
   ]
  },
  {
   "cell_type": "code",
   "execution_count": null,
   "metadata": {
    "ExecuteTime": {
     "start_time": "2021-01-22T21:26:33.647Z"
    }
   },
   "outputs": [],
   "source": [
    "ede.columns = ['pass', 'run', 'pass_epa', 'run_epa']"
   ]
  },
  {
   "cell_type": "code",
   "execution_count": null,
   "metadata": {
    "ExecuteTime": {
     "start_time": "2021-01-22T21:26:34.884Z"
    }
   },
   "outputs": [],
   "source": [
    "ede = ede.reset_index()"
   ]
  },
  {
   "cell_type": "code",
   "execution_count": null,
   "metadata": {},
   "outputs": [],
   "source": []
  }
 ],
 "metadata": {
  "hide_input": false,
  "kernelspec": {
   "display_name": "learn-env",
   "language": "python",
   "name": "learn-env"
  },
  "language_info": {
   "codemirror_mode": {
    "name": "ipython",
    "version": 3
   },
   "file_extension": ".py",
   "mimetype": "text/x-python",
   "name": "python",
   "nbconvert_exporter": "python",
   "pygments_lexer": "ipython3",
   "version": "3.6.9"
  }
 },
 "nbformat": 4,
 "nbformat_minor": 4
}
