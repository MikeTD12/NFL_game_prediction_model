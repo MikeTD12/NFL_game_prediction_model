{
 "cells": [
  {
   "cell_type": "markdown",
   "metadata": {},
   "source": [
    "Feature ideas:\n",
    "1. avg drive_start_yard_line\n",
    "2. playing surface\n",
    "4. qb_hit (rolling sum)"
   ]
  },
  {
   "cell_type": "code",
   "execution_count": 18,
   "metadata": {
    "ExecuteTime": {
     "end_time": "2021-02-09T20:48:45.014859Z",
     "start_time": "2021-02-09T20:48:45.004850Z"
    }
   },
   "outputs": [],
   "source": [
    "import nflfastpy as nfl\n",
    "import pandas as pd\n",
    "from matplotlib import pyplot as plt\n",
    "import matplotlib.ticker as plticker\n",
    "import numpy as np\n",
    "\n",
    "from sklearn.model_selection import train_test_split, GridSearchCV, RandomizedSearchCV, StratifiedKFold\n",
    "from sklearn.metrics import precision_score, recall_score, accuracy_score, f1_score, classification_report\n",
    "from category_encoders import OneHotEncoder\n",
    "\n",
    "import xgboost as xgb\n",
    "\n",
    "pd.set_option('display.max_columns', None)"
   ]
  },
  {
   "cell_type": "code",
   "execution_count": 19,
   "metadata": {
    "ExecuteTime": {
     "end_time": "2021-02-09T20:53:25.347808Z",
     "start_time": "2021-02-09T20:48:45.272423Z"
    }
   },
   "outputs": [],
   "source": [
    "data = pd.concat([nfl.load_pbp_data(season).assign(season=season) for season in range(1999, 2021)])"
   ]
  },
  {
   "cell_type": "code",
   "execution_count": 20,
   "metadata": {
    "ExecuteTime": {
     "end_time": "2021-02-09T20:53:45.721905Z",
     "start_time": "2021-02-09T20:53:25.362996Z"
    }
   },
   "outputs": [],
   "source": [
    "# home team result against the spread\n",
    "data['ht_ats'] = (data.spread_line - data.result)"
   ]
  },
  {
   "cell_type": "code",
   "execution_count": 21,
   "metadata": {
    "ExecuteTime": {
     "end_time": "2021-02-09T20:53:45.792771Z",
     "start_time": "2021-02-09T20:53:45.736928Z"
    }
   },
   "outputs": [],
   "source": [
    "# target variable against the spread\n",
    "data['target_ats'] = np.where(data.ht_ats < 0, 1, 0)"
   ]
  },
  {
   "cell_type": "code",
   "execution_count": 22,
   "metadata": {
    "ExecuteTime": {
     "end_time": "2021-02-09T20:53:50.481870Z",
     "start_time": "2021-02-09T20:53:45.798253Z"
    }
   },
   "outputs": [],
   "source": [
    "data['start_time'] = pd.to_datetime(data.start_time, format='%H:%M:%S').dt.hour"
   ]
  },
  {
   "cell_type": "code",
   "execution_count": 23,
   "metadata": {
    "ExecuteTime": {
     "end_time": "2021-02-09T20:53:50.558466Z",
     "start_time": "2021-02-09T20:53:50.484492Z"
    }
   },
   "outputs": [],
   "source": [
    "x = data.start_time\n",
    "condlist = [x == 9, x.between(13,17), x >= 18]\n",
    "choicelist = ['morning', 'afternoon', 'night']"
   ]
  },
  {
   "cell_type": "code",
   "execution_count": 24,
   "metadata": {
    "ExecuteTime": {
     "end_time": "2021-02-09T20:53:50.882378Z",
     "start_time": "2021-02-09T20:53:50.561487Z"
    }
   },
   "outputs": [],
   "source": [
    "data['game_start'] = np.select(condlist, choicelist, default='none')"
   ]
  },
  {
   "cell_type": "code",
   "execution_count": 26,
   "metadata": {
    "ExecuteTime": {
     "end_time": "2021-02-09T20:53:50.962461Z",
     "start_time": "2021-02-09T20:53:50.955713Z"
    }
   },
   "outputs": [],
   "source": [
    "def dynamic_window_ewma(x):\n",
    "    \"\"\"\n",
    "    Calculate rolling exponentially weighted EPA with a dynamic window size\n",
    "    \"\"\"\n",
    "    values = np.zeros(len(x))\n",
    "    for i, (_, row) in enumerate(x.iterrows()):\n",
    "        epa = x.epa_shifted[:i+1]\n",
    "        if row.week > 10:\n",
    "            values[i] = epa.ewm(min_periods=1, span=row.week).mean().values[-1]\n",
    "        else:\n",
    "            values[i] = epa.ewm(min_periods=1, span=10).mean().values[-1]\n",
    "            \n",
    "    return pd.Series(values, index=x.index)"
   ]
  },
  {
   "cell_type": "code",
   "execution_count": 27,
   "metadata": {
    "ExecuteTime": {
     "end_time": "2021-02-09T20:54:37.601654Z",
     "start_time": "2021-02-09T20:53:50.966933Z"
    }
   },
   "outputs": [],
   "source": [
    "rushing_offense_epa = data.loc[data['rush_attempt'] == 1, :]\\\n",
    ".groupby(['posteam', 'season', 'week'], as_index=False)['epa'].mean()\n",
    "\n",
    "rushing_defense_epa = data.loc[data['rush_attempt'] == 1, :]\\\n",
    ".groupby(['defteam', 'season', 'week'], as_index=False)['epa'].mean()\n",
    "\n",
    "passing_offense_epa = data.loc[data['pass_attempt'] == 1, :]\\\n",
    ".groupby(['posteam', 'season', 'week'], as_index=False)['epa'].mean()\n",
    "\n",
    "qb_epa = data.groupby(['posteam', 'season', 'week'], as_index=False)['qb_epa'].mean()\n",
    "\n",
    "passing_defense_epa = data.loc[data['pass_attempt'] == 1, :]\\\n",
    ".groupby(['defteam', 'season', 'week'], as_index=False)['epa'].mean()"
   ]
  },
  {
   "cell_type": "code",
   "execution_count": 28,
   "metadata": {
    "ExecuteTime": {
     "end_time": "2021-02-09T20:54:37.638167Z",
     "start_time": "2021-02-09T20:54:37.608761Z"
    }
   },
   "outputs": [],
   "source": [
    "# lag EPA one period back\n",
    "rushing_offense_epa['epa_shifted'] = rushing_offense_epa.groupby('posteam')['epa'].shift()\n",
    "rushing_defense_epa['epa_shifted'] = rushing_defense_epa.groupby('defteam')['epa'].shift()\n",
    "passing_offense_epa['epa_shifted'] = passing_offense_epa.groupby('posteam')['epa'].shift()\n",
    "qb_epa['epa_shifted'] = qb_epa.groupby('posteam')['qb_epa'].shift()\n",
    "passing_defense_epa['epa_shifted'] = passing_defense_epa.groupby('defteam')['epa'].shift()"
   ]
  },
  {
   "cell_type": "code",
   "execution_count": 29,
   "metadata": {
    "ExecuteTime": {
     "end_time": "2021-02-09T20:55:22.449337Z",
     "start_time": "2021-02-09T20:54:37.705799Z"
    }
   },
   "outputs": [],
   "source": [
    "# In each case, calculate EWMA with a dynamic window and assign it as a column \n",
    "rushing_offense_epa['ewma_dynamic_window'] = rushing_offense_epa.groupby('posteam')\\\n",
    ".apply(dynamic_window_ewma).values\n",
    "\n",
    "rushing_defense_epa['ewma_dynamic_window'] = rushing_defense_epa.groupby('defteam')\\\n",
    ".apply(dynamic_window_ewma).values\n",
    "\n",
    "passing_offense_epa['ewma_dynamic_window'] = passing_offense_epa.groupby('posteam')\\\n",
    ".apply(dynamic_window_ewma).values\n",
    "\n",
    "qb_epa['ewma_dynamic_window_qb'] = qb_epa.groupby('posteam').apply(dynamic_window_ewma).values\n",
    "\n",
    "passing_defense_epa['ewma_dynamic_window'] = passing_defense_epa.groupby('defteam')\\\n",
    ".apply(dynamic_window_ewma).values"
   ]
  },
  {
   "cell_type": "code",
   "execution_count": 30,
   "metadata": {
    "ExecuteTime": {
     "end_time": "2021-02-09T20:55:22.460017Z",
     "start_time": "2021-02-09T20:55:22.451897Z"
    }
   },
   "outputs": [],
   "source": [
    "qb_epa.rename(columns={'posteam': 'team'}, inplace=True)"
   ]
  },
  {
   "cell_type": "code",
   "execution_count": 31,
   "metadata": {
    "ExecuteTime": {
     "end_time": "2021-02-09T20:55:22.539389Z",
     "start_time": "2021-02-09T20:55:22.464625Z"
    }
   },
   "outputs": [],
   "source": [
    "#Merge all the data together\n",
    "offense_epa_0 = rushing_offense_epa.merge(passing_offense_epa, on=['posteam', 'season', 'week'], suffixes=('_rushing', '_passing'))\\\n",
    ".rename(columns={'posteam': 'team'})\n",
    "\n",
    "offense_epa = offense_epa_0.merge(qb_epa, on=['team', 'season', 'week'])\n",
    "\n",
    "defense_epa = rushing_defense_epa.merge(passing_defense_epa, on=['defteam', 'season', 'week'], suffixes=('_rushing', '_passing'))\\\n",
    ".rename(columns={'defteam': 'team'})\n",
    "\n",
    "epa = offense_epa.merge(defense_epa, on=['team', 'season', 'week'], suffixes=('_offense', '_defense'))"
   ]
  },
  {
   "cell_type": "code",
   "execution_count": 32,
   "metadata": {
    "ExecuteTime": {
     "end_time": "2021-02-09T20:55:22.565361Z",
     "start_time": "2021-02-09T20:55:22.542790Z"
    }
   },
   "outputs": [],
   "source": [
    "#remove the first season of data\n",
    "epa = epa.loc[epa['season'] != epa['season'].unique()[0], :]\n",
    "\n",
    "epa = epa.reset_index(drop=True)"
   ]
  },
  {
   "cell_type": "code",
   "execution_count": 33,
   "metadata": {
    "ExecuteTime": {
     "end_time": "2021-02-09T20:55:23.359018Z",
     "start_time": "2021-02-09T20:55:22.572723Z"
    }
   },
   "outputs": [],
   "source": [
    "schedule = data[['season', 'week', 'home_team', 'away_team', 'home_score', \n",
    "                 'spread_line', 'div_game', 'wind', 'temp', 'game_start', 'away_score', 'target_ats']]\\\n",
    ".drop_duplicates().reset_index(drop=True)\\\n",
    ".assign(home_team_win = lambda x: (x.home_score > x.away_score).astype(int))\n",
    "\n",
    "df = schedule.merge(epa.rename(columns={'team': 'home_team'}), on=['home_team', 'season', 'week'])\\\n",
    ".merge(epa.rename(columns={'team': 'away_team'}), on=['away_team', 'season', 'week'], suffixes=('_home', '_away'))"
   ]
  },
  {
   "cell_type": "code",
   "execution_count": 34,
   "metadata": {
    "ExecuteTime": {
     "end_time": "2021-02-09T20:55:23.370076Z",
     "start_time": "2021-02-09T20:55:23.363552Z"
    }
   },
   "outputs": [],
   "source": [
    "#target = 'home_team_win'\n",
    "target = 'target_ats'\n",
    "features = [column for column in df.columns if 'ewma' in column and 'dynamic'\\\n",
    "            or 'div_game' in column or 'spread_line' in column or 'temp' in column\\\n",
    "           or 'wind' in column]"
   ]
  },
  {
   "cell_type": "markdown",
   "metadata": {},
   "source": [
    "## Train, Test, Split & Fit Model"
   ]
  },
  {
   "cell_type": "code",
   "execution_count": 49,
   "metadata": {
    "ExecuteTime": {
     "end_time": "2021-02-09T20:59:11.174403Z",
     "start_time": "2021-02-09T20:59:11.130789Z"
    }
   },
   "outputs": [],
   "source": [
    "df = df.dropna()\n",
    "\n",
    "df1 = df[['season', 'week', 'home_team', 'home_score', 'away_team', 'away_score']].copy()\n",
    "\n",
    "X = df.loc[df['season'] != 2020, features]\n",
    "y = df.loc[df['season'] != 2020, target]\n",
    "\n",
    "data_train, data_test, y_train, y_test = train_test_split(X, y, test_size = 0.10, random_state=25)"
   ]
  },
  {
   "cell_type": "code",
   "execution_count": 36,
   "metadata": {
    "ExecuteTime": {
     "end_time": "2021-02-09T20:55:23.462461Z",
     "start_time": "2021-02-09T20:55:23.453973Z"
    }
   },
   "outputs": [
    {
     "data": {
      "text/plain": [
       "\"ohe = OneHotEncoder(cols=['game_start'], drop_invariant=True, use_cat_names=True)\\ndata_train = ohe.fit_transform(data_train, y_train)\\ndata_test = ohe.transform(data_test)\""
      ]
     },
     "execution_count": 36,
     "metadata": {},
     "output_type": "execute_result"
    }
   ],
   "source": [
    "'''ohe = OneHotEncoder(cols=['game_start'], drop_invariant=True, use_cat_names=True)\n",
    "data_train = ohe.fit_transform(data_train, y_train)\n",
    "data_test = ohe.transform(data_test)'''"
   ]
  },
  {
   "cell_type": "code",
   "execution_count": 37,
   "metadata": {
    "ExecuteTime": {
     "end_time": "2021-02-09T20:55:23.472579Z",
     "start_time": "2021-02-09T20:55:23.465892Z"
    }
   },
   "outputs": [
    {
     "data": {
      "text/plain": [
       "'\\ncolsample_bytree: 1\\neta: 0.01\\nmax_depth: 9\\nmin_child_weight: 3\\nn_estimators: 7\\nsubsample: 0.9\\n'"
      ]
     },
     "execution_count": 37,
     "metadata": {},
     "output_type": "execute_result"
    }
   ],
   "source": [
    "'''\n",
    "colsample_bytree: 1\n",
    "eta: 0.01\n",
    "max_depth: 9\n",
    "min_child_weight: 3\n",
    "n_estimators: 7\n",
    "subsample: 0.9\n",
    "'''"
   ]
  },
  {
   "cell_type": "markdown",
   "metadata": {},
   "source": [
    "## XGBoost"
   ]
  },
  {
   "cell_type": "code",
   "execution_count": 38,
   "metadata": {
    "ExecuteTime": {
     "end_time": "2021-02-09T20:55:24.415064Z",
     "start_time": "2021-02-09T20:55:23.476095Z"
    }
   },
   "outputs": [
    {
     "name": "stdout",
     "output_type": "stream",
     "text": [
      "[0]\tvalidation_0-error:0.415415\tvalidation_0-logloss:0.688122\tvalidation_1-error:0.4425\tvalidation_1-logloss:0.689646\n",
      "[1]\tvalidation_0-error:0.381469\tvalidation_0-logloss:0.682153\tvalidation_1-error:0.3875\tvalidation_1-logloss:0.683683\n",
      "[2]\tvalidation_0-error:0.367557\tvalidation_0-logloss:0.67769\tvalidation_1-error:0.3675\tvalidation_1-logloss:0.679778\n",
      "[3]\tvalidation_0-error:0.351141\tvalidation_0-logloss:0.672817\tvalidation_1-error:0.3725\tvalidation_1-logloss:0.676659\n",
      "[4]\tvalidation_0-error:0.347802\tvalidation_0-logloss:0.66771\tvalidation_1-error:0.365\tvalidation_1-logloss:0.67142\n",
      "[5]\tvalidation_0-error:0.343628\tvalidation_0-logloss:0.66494\tvalidation_1-error:0.36\tvalidation_1-logloss:0.668355\n",
      "[6]\tvalidation_0-error:0.33862\tvalidation_0-logloss:0.660915\tvalidation_1-error:0.345\tvalidation_1-logloss:0.664653\n",
      "[7]\tvalidation_0-error:0.332777\tvalidation_0-logloss:0.658489\tvalidation_1-error:0.3425\tvalidation_1-logloss:0.66172\n",
      "[8]\tvalidation_0-error:0.328047\tvalidation_0-logloss:0.656532\tvalidation_1-error:0.335\tvalidation_1-logloss:0.659013\n",
      "[9]\tvalidation_0-error:0.323595\tvalidation_0-logloss:0.652958\tvalidation_1-error:0.3125\tvalidation_1-logloss:0.654092\n",
      "[10]\tvalidation_0-error:0.320812\tvalidation_0-logloss:0.651723\tvalidation_1-error:0.31\tvalidation_1-logloss:0.652495\n",
      "[11]\tvalidation_0-error:0.321647\tvalidation_0-logloss:0.649191\tvalidation_1-error:0.2975\tvalidation_1-logloss:0.651042\n",
      "[12]\tvalidation_0-error:0.315248\tvalidation_0-logloss:0.64563\tvalidation_1-error:0.3025\tvalidation_1-logloss:0.648557\n",
      "[13]\tvalidation_0-error:0.314413\tvalidation_0-logloss:0.644732\tvalidation_1-error:0.305\tvalidation_1-logloss:0.646794\n",
      "[14]\tvalidation_0-error:0.304396\tvalidation_0-logloss:0.639636\tvalidation_1-error:0.2975\tvalidation_1-logloss:0.642387\n",
      "[15]\tvalidation_0-error:0.296049\tvalidation_0-logloss:0.635811\tvalidation_1-error:0.2975\tvalidation_1-logloss:0.638951\n",
      "[16]\tvalidation_0-error:0.293267\tvalidation_0-logloss:0.634103\tvalidation_1-error:0.2975\tvalidation_1-logloss:0.637813\n",
      "[17]\tvalidation_0-error:0.288815\tvalidation_0-logloss:0.629284\tvalidation_1-error:0.2725\tvalidation_1-logloss:0.632857\n",
      "[18]\tvalidation_0-error:0.281302\tvalidation_0-logloss:0.625061\tvalidation_1-error:0.275\tvalidation_1-logloss:0.628468\n",
      "[19]\tvalidation_0-error:0.280746\tvalidation_0-logloss:0.62218\tvalidation_1-error:0.27\tvalidation_1-logloss:0.625062\n",
      "[20]\tvalidation_0-error:0.276294\tvalidation_0-logloss:0.620372\tvalidation_1-error:0.255\tvalidation_1-logloss:0.622382\n",
      "[21]\tvalidation_0-error:0.274346\tvalidation_0-logloss:0.619213\tvalidation_1-error:0.2625\tvalidation_1-logloss:0.620889\n",
      "[22]\tvalidation_0-error:0.260991\tvalidation_0-logloss:0.615384\tvalidation_1-error:0.25\tvalidation_1-logloss:0.615645\n",
      "[23]\tvalidation_0-error:0.257373\tvalidation_0-logloss:0.611376\tvalidation_1-error:0.24\tvalidation_1-logloss:0.611528\n",
      "[24]\tvalidation_0-error:0.254869\tvalidation_0-logloss:0.608826\tvalidation_1-error:0.2475\tvalidation_1-logloss:0.609272\n",
      "[0]\tvalidation_0-error:0.411519\tvalidation_0-logloss:0.687453\tvalidation_1-error:0.465\tvalidation_1-logloss:0.692296\n",
      "[1]\tvalidation_0-error:0.385921\tvalidation_0-logloss:0.682779\tvalidation_1-error:0.5025\tvalidation_1-logloss:0.692367\n",
      "[2]\tvalidation_0-error:0.374235\tvalidation_0-logloss:0.679579\tvalidation_1-error:0.475\tvalidation_1-logloss:0.691728\n",
      "[3]\tvalidation_0-error:0.36867\tvalidation_0-logloss:0.675193\tvalidation_1-error:0.48\tvalidation_1-logloss:0.692317\n",
      "[4]\tvalidation_0-error:0.354758\tvalidation_0-logloss:0.670126\tvalidation_1-error:0.465\tvalidation_1-logloss:0.690911\n",
      "[5]\tvalidation_0-error:0.344185\tvalidation_0-logloss:0.665239\tvalidation_1-error:0.47\tvalidation_1-logloss:0.688943\n",
      "[6]\tvalidation_0-error:0.331664\tvalidation_0-logloss:0.659542\tvalidation_1-error:0.4875\tvalidation_1-logloss:0.689202\n",
      "[7]\tvalidation_0-error:0.324151\tvalidation_0-logloss:0.655441\tvalidation_1-error:0.4875\tvalidation_1-logloss:0.68905\n",
      "[8]\tvalidation_0-error:0.317195\tvalidation_0-logloss:0.651883\tvalidation_1-error:0.4725\tvalidation_1-logloss:0.690416\n",
      "[9]\tvalidation_0-error:0.313022\tvalidation_0-logloss:0.648682\tvalidation_1-error:0.475\tvalidation_1-logloss:0.691411\n",
      "[10]\tvalidation_0-error:0.291875\tvalidation_0-logloss:0.641216\tvalidation_1-error:0.49\tvalidation_1-logloss:0.69324\n",
      "[11]\tvalidation_0-error:0.292432\tvalidation_0-logloss:0.638305\tvalidation_1-error:0.4825\tvalidation_1-logloss:0.693114\n",
      "[12]\tvalidation_0-error:0.287423\tvalidation_0-logloss:0.634524\tvalidation_1-error:0.49\tvalidation_1-logloss:0.693291\n",
      "[13]\tvalidation_0-error:0.283528\tvalidation_0-logloss:0.631896\tvalidation_1-error:0.4875\tvalidation_1-logloss:0.693043\n",
      "[14]\tvalidation_0-error:0.278798\tvalidation_0-logloss:0.629949\tvalidation_1-error:0.495\tvalidation_1-logloss:0.694138\n",
      "[15]\tvalidation_0-error:0.276294\tvalidation_0-logloss:0.628278\tvalidation_1-error:0.49\tvalidation_1-logloss:0.694653\n",
      "[16]\tvalidation_0-error:0.270729\tvalidation_0-logloss:0.623453\tvalidation_1-error:0.485\tvalidation_1-logloss:0.695191\n",
      "[17]\tvalidation_0-error:0.271007\tvalidation_0-logloss:0.620595\tvalidation_1-error:0.4875\tvalidation_1-logloss:0.694406\n",
      "[18]\tvalidation_0-error:0.265442\tvalidation_0-logloss:0.617718\tvalidation_1-error:0.47\tvalidation_1-logloss:0.694183\n",
      "[19]\tvalidation_0-error:0.264051\tvalidation_0-logloss:0.615609\tvalidation_1-error:0.4725\tvalidation_1-logloss:0.695687\n",
      "[20]\tvalidation_0-error:0.260712\tvalidation_0-logloss:0.614448\tvalidation_1-error:0.4775\tvalidation_1-logloss:0.695215\n",
      "[21]\tvalidation_0-error:0.261269\tvalidation_0-logloss:0.611745\tvalidation_1-error:0.4675\tvalidation_1-logloss:0.693375\n",
      "[22]\tvalidation_0-error:0.251809\tvalidation_0-logloss:0.606906\tvalidation_1-error:0.47\tvalidation_1-logloss:0.693875\n",
      "[23]\tvalidation_0-error:0.247078\tvalidation_0-logloss:0.604237\tvalidation_1-error:0.4825\tvalidation_1-logloss:0.69431\n",
      "[24]\tvalidation_0-error:0.243183\tvalidation_0-logloss:0.601691\tvalidation_1-error:0.455\tvalidation_1-logloss:0.696472\n"
     ]
    }
   ],
   "source": [
    "import xgboost as xgb\n",
    "\n",
    "xgb = xgb.XGBClassifier(\n",
    "    colsample_bytree = 0.9,\n",
    "    eta = 0.001,\n",
    "    max_depth = 7,\n",
    "    min_child_weight = 6,\n",
    "    n_estimators = 25,\n",
    "    subsample = 0.75,\n",
    "    seed = 1001\n",
    ")\n",
    "\n",
    "eval_set = [(data_train, y_train), (data_test, y_test)]\n",
    "\n",
    "xgb.fit(X, y, eval_metric=[\"error\", \"logloss\"], eval_set=eval_set, verbose=True)\n",
    "xgb.fit(data_train, y_train, eval_metric=[\"error\", \"logloss\"], eval_set=eval_set, verbose=True)\n",
    "training_preds = xgb.predict(data_train)\n",
    "y_pred = xgb.predict(data_test)"
   ]
  },
  {
   "cell_type": "code",
   "execution_count": 39,
   "metadata": {
    "ExecuteTime": {
     "end_time": "2021-02-09T20:55:24.456875Z",
     "start_time": "2021-02-09T20:55:24.423237Z"
    }
   },
   "outputs": [
    {
     "name": "stdout",
     "output_type": "stream",
     "text": [
      "Null Score: 44.5%\n",
      "Training Accuracy: 75.68%\n",
      "Validation accuracy: 54.5%\n"
     ]
    }
   ],
   "source": [
    "training_accuracy = accuracy_score(y_train, training_preds)\n",
    "val_accuracy = accuracy_score(y_test, y_pred)\n",
    "\n",
    "ns = y_test.mean()\n",
    "print(\"Null Score: {:.4}%\".format(ns * 100))\n",
    "print(\"Training Accuracy: {:.4}%\".format(training_accuracy * 100))\n",
    "print(\"Validation accuracy: {:.4}%\".format(val_accuracy * 100))"
   ]
  },
  {
   "cell_type": "code",
   "execution_count": 40,
   "metadata": {
    "ExecuteTime": {
     "end_time": "2021-02-09T20:55:24.634616Z",
     "start_time": "2021-02-09T20:55:24.461503Z"
    }
   },
   "outputs": [
    {
     "name": "stdout",
     "output_type": "stream",
     "text": [
      "\n",
      "Confusion Matrix\n",
      "----------------\n"
     ]
    },
    {
     "data": {
      "text/html": [
       "<div>\n",
       "<style scoped>\n",
       "    .dataframe tbody tr th:only-of-type {\n",
       "        vertical-align: middle;\n",
       "    }\n",
       "\n",
       "    .dataframe tbody tr th {\n",
       "        vertical-align: top;\n",
       "    }\n",
       "\n",
       "    .dataframe thead th {\n",
       "        text-align: right;\n",
       "    }\n",
       "</style>\n",
       "<table border=\"1\" class=\"dataframe\">\n",
       "  <thead>\n",
       "    <tr style=\"text-align: right;\">\n",
       "      <th>Predicted</th>\n",
       "      <th>0</th>\n",
       "      <th>1</th>\n",
       "      <th>All</th>\n",
       "    </tr>\n",
       "    <tr>\n",
       "      <th>Actual</th>\n",
       "      <th></th>\n",
       "      <th></th>\n",
       "      <th></th>\n",
       "    </tr>\n",
       "  </thead>\n",
       "  <tbody>\n",
       "    <tr>\n",
       "      <td>0</td>\n",
       "      <td>156</td>\n",
       "      <td>66</td>\n",
       "      <td>222</td>\n",
       "    </tr>\n",
       "    <tr>\n",
       "      <td>1</td>\n",
       "      <td>116</td>\n",
       "      <td>62</td>\n",
       "      <td>178</td>\n",
       "    </tr>\n",
       "    <tr>\n",
       "      <td>All</td>\n",
       "      <td>272</td>\n",
       "      <td>128</td>\n",
       "      <td>400</td>\n",
       "    </tr>\n",
       "  </tbody>\n",
       "</table>\n",
       "</div>"
      ],
      "text/plain": [
       "Predicted    0    1  All\n",
       "Actual                  \n",
       "0          156   66  222\n",
       "1          116   62  178\n",
       "All        272  128  400"
      ]
     },
     "execution_count": 40,
     "metadata": {},
     "output_type": "execute_result"
    }
   ],
   "source": [
    "print('\\nConfusion Matrix')\n",
    "print('----------------')\n",
    "pd.crosstab(y_test, y_pred, rownames=['Actual'], colnames=['Predicted'], margins=True)"
   ]
  },
  {
   "cell_type": "code",
   "execution_count": 41,
   "metadata": {
    "ExecuteTime": {
     "end_time": "2021-02-09T20:55:24.651946Z",
     "start_time": "2021-02-09T20:55:24.639192Z"
    }
   },
   "outputs": [
    {
     "name": "stdout",
     "output_type": "stream",
     "text": [
      "              precision    recall  f1-score   support\n",
      "\n",
      "           0       0.57      0.70      0.63       222\n",
      "           1       0.48      0.35      0.41       178\n",
      "\n",
      "    accuracy                           0.55       400\n",
      "   macro avg       0.53      0.53      0.52       400\n",
      "weighted avg       0.53      0.55      0.53       400\n",
      "\n"
     ]
    }
   ],
   "source": [
    "# Classification report\n",
    "print(classification_report(y_test, y_pred))"
   ]
  },
  {
   "cell_type": "code",
   "execution_count": 42,
   "metadata": {
    "ExecuteTime": {
     "end_time": "2021-02-09T20:55:24.944754Z",
     "start_time": "2021-02-09T20:55:24.654183Z"
    }
   },
   "outputs": [
    {
     "data": {
      "image/png": "[encoded data removed]",
      "text/plain": [
       "<Figure size 432x288 with 1 Axes>"
      ]
     },
     "metadata": {
      "needs_background": "light"
     },
     "output_type": "display_data"
    }
   ],
   "source": [
    "# Log loss\n",
    "results = xgb.evals_result()\n",
    "epochs = len(results['validation_0']['error'])\n",
    "x_axis = range(0, epochs)\n",
    "\n",
    "fig, ax = plt.subplots()\n",
    "ax.plot(x_axis, results['validation_0']['logloss'], label='Train')\n",
    "ax.plot(x_axis, results['validation_1']['logloss'], label='Test')\n",
    "ax.legend()\n",
    "plt.ylabel('Log Loss')\n",
    "plt.title('XGBoost Log Loss')\n",
    "plt.show()"
   ]
  },
  {
   "cell_type": "code",
   "execution_count": 43,
   "metadata": {
    "ExecuteTime": {
     "end_time": "2021-02-09T20:55:25.339729Z",
     "start_time": "2021-02-09T20:55:24.949111Z"
    }
   },
   "outputs": [
    {
     "data": {
      "image/png": "[encoded data removed]",
      "text/plain": [
       "<Figure size 864x720 with 1 Axes>"
      ]
     },
     "metadata": {
      "needs_background": "light"
     },
     "output_type": "display_data"
    }
   ],
   "source": [
    "# Feature importance\n",
    "from xgboost import plot_importance\n",
    "\n",
    "def plot_features(booster, figsize):    \n",
    "    fig, ax = plt.subplots(1,1,figsize=figsize)\n",
    "    return plot_importance(booster=booster, ax=ax, importance_type='gain').set_yticklabels(features)\n",
    "\n",
    "plot_features(xgb, (12,10));"
   ]
  },
  {
   "cell_type": "code",
   "execution_count": 50,
   "metadata": {
    "ExecuteTime": {
     "end_time": "2021-02-09T20:59:15.684615Z",
     "start_time": "2021-02-09T20:59:15.604612Z"
    }
   },
   "outputs": [
    {
     "name": "stderr",
     "output_type": "stream",
     "text": [
      "/opt/anaconda3/envs/learn-env/lib/python3.6/site-packages/ipykernel_launcher.py:18: SettingWithCopyWarning: \n",
      "A value is trying to be set on a copy of a slice from a DataFrame.\n",
      "Try using .loc[row_indexer,col_indexer] = value instead\n",
      "\n",
      "See the caveats in the documentation: http://pandas.pydata.org/pandas-docs/stable/user_guide/indexing.html#returning-a-view-versus-a-copy\n"
     ]
    }
   ],
   "source": [
    "# Predict probabilities of home/away team cover ATS.\n",
    "probs_y = xgb.predict_proba(data_test)\n",
    "probs_y_df = pd.DataFrame(data = probs_y, columns = ['prob_away_team_cover', 'prob_home_team_cover'],\n",
    "                          index = data_test.index.copy())\n",
    "\n",
    "xgb_pred = pd.DataFrame(data = y_pred, columns=['prediction_home_team_cover'], index = data_test.index.copy())\n",
    "prob_pred = pd.merge(xgb_pred, probs_y_df, left_index=True, right_index=True)\n",
    "\n",
    "prob_pred = pd.merge(data_test, probs_y_df, left_index=True, right_index=True)\n",
    "prob_pred2 = pd.merge(prob_pred, xgb_pred, left_index=True, right_index=True)\n",
    "y_test_df = pd.DataFrame(data = y_test, columns=['target_ats'], index = y_test.index.copy())\n",
    "\n",
    "p_list0 = pd.merge(prob_pred2, y_test_df, left_index=True, right_index=True)\n",
    "p_list0 = pd.merge(p_list0, df1, left_index=True, right_index=True)\n",
    "p_list = p_list0[['season', 'week', 'home_team', 'home_score', 'away_team', 'away_score', 'spread_line',\n",
    "                  'prob_away_team_cover', 'prob_home_team_cover', 'prediction_home_team_cover', 'target_ats']]\n",
    "\n",
    "p_list['correct_predic'] = np.where(p_list.prediction_home_team_cover == p_list.target_ats, 1, 0)\n",
    "p_list = p_list.sort_values(by=['correct_predic', 'prob_away_team_cover'], ascending=False)"
   ]
  },
  {
   "cell_type": "markdown",
   "metadata": {},
   "source": [
    "# Random Search"
   ]
  },
  {
   "cell_type": "code",
   "execution_count": null,
   "metadata": {
    "ExecuteTime": {
     "end_time": "2021-02-09T20:32:24.144338Z",
     "start_time": "2021-02-09T20:32:24.139806Z"
    }
   },
   "outputs": [],
   "source": [
    "params = {  \n",
    "    'eta': [0.001, 0.01],\n",
    "    'max_depth': [3, 4, 5, 6, 7, 8, 9],\n",
    "    'min_child_weight': [2, 3, 4, 5, 6, 7],\n",
    "    'subsample': [0.9, 1, 0.75, 0.95],\n",
    "    'n_estimators': [3, 5, 7, 10, 12, 15, 20, 25, 30, 35],\n",
    "    'colsample_bytree': [0.9, 1, 0.75, 0.95, 0.7],\n",
    "}"
   ]
  },
  {
   "cell_type": "code",
   "execution_count": null,
   "metadata": {
    "ExecuteTime": {
     "end_time": "2021-02-09T20:34:04.257289Z",
     "start_time": "2021-02-09T20:32:24.871304Z"
    }
   },
   "outputs": [],
   "source": [
    "import xgboost as xgb\n",
    "\n",
    "clf = xgb.XGBClassifier(seed = 1001)\n",
    "\n",
    "folds = 3\n",
    "param_comb = 500\n",
    "\n",
    "skf = StratifiedKFold(n_splits=folds, shuffle = True, random_state = 1001)\n",
    "\n",
    "random_search = RandomizedSearchCV(clf, param_distributions=params, n_iter=param_comb, \n",
    "                                   scoring='roc_auc', n_jobs=4, cv=skf.split(data_train, y_train), \n",
    "                                   verbose=3, random_state=1001 )\n",
    "\n",
    "random_search.fit(data_train, y_train)"
   ]
  },
  {
   "cell_type": "code",
   "execution_count": null,
   "metadata": {
    "ExecuteTime": {
     "end_time": "2021-02-09T20:34:04.317305Z",
     "start_time": "2021-02-09T20:34:04.260549Z"
    }
   },
   "outputs": [],
   "source": [
    "best_parameters = random_search.best_params_\n",
    "\n",
    "print(\"Random Search found the following optimal parameters: \")\n",
    "for param_name in sorted(best_parameters.keys()):\n",
    "    print(\"%s: %r\" % (param_name, best_parameters[param_name]))\n",
    "\n",
    "training_preds = random_search.predict(data_train)\n",
    "val_preds = random_search.predict(y_test)\n",
    "training_accuracy = accuracy_score(y_train, training_preds)\n",
    "val_accuracy = accuracy_score(y_test, val_preds)\n",
    "\n",
    "print(\"\")\n",
    "print(\"Training Accuracy: {:.4}%\".format(training_accuracy * 100))\n",
    "print(\"Validation accuracy: {:.4}%\".format(val_accuracy * 100))\n",
    "print('-----------------------------------------')\n",
    "print(f'Null score: {ns}')\n",
    "print(classification_report(y_test, val_preds))"
   ]
  },
  {
   "cell_type": "markdown",
   "metadata": {},
   "source": [
    "# Predict 2020 games"
   ]
  },
  {
   "cell_type": "code",
   "execution_count": 69,
   "metadata": {
    "ExecuteTime": {
     "end_time": "2021-02-09T21:04:46.953872Z",
     "start_time": "2021-02-09T21:04:46.930690Z"
    }
   },
   "outputs": [],
   "source": [
    "df_20 = df.loc[(df['season'] == 2020)].assign(\n",
    "    home_team_ats_wp = lambda x: xgb.predict_proba(x[features])[:, 1]\n",
    ")[['season', 'week', 'home_team', 'home_score', 'away_team', 'away_score', 'spread_line',\n",
    "  'target_ats', 'home_team_ats_wp']].sort_values(by='home_team_ats_wp', ascending=False)"
   ]
  },
  {
   "cell_type": "code",
   "execution_count": 87,
   "metadata": {
    "ExecuteTime": {
     "end_time": "2021-02-09T21:14:21.314836Z",
     "start_time": "2021-02-09T21:14:21.309794Z"
    }
   },
   "outputs": [],
   "source": [
    "df_20['prediction'] = np.where(df_20.home_team_ats_wp > 0.5, 1, 0)\n",
    "df_20['correct_pred'] = np.where(df_20.target_ats == df_20.prediction, 1, 0)"
   ]
  },
  {
   "cell_type": "code",
   "execution_count": null,
   "metadata": {},
   "outputs": [],
   "source": []
  }
 ],
 "metadata": {
  "hide_input": false,
  "kernelspec": {
   "display_name": "learn-env",
   "language": "python",
   "name": "learn-env"
  },
  "language_info": {
   "codemirror_mode": {
    "name": "ipython",
    "version": 3
   },
   "file_extension": ".py",
   "mimetype": "text/x-python",
   "name": "python",
   "nbconvert_exporter": "python",
   "pygments_lexer": "ipython3",
   "version": "3.6.9"
  }
 },
 "nbformat": 4,
 "nbformat_minor": 4
}
